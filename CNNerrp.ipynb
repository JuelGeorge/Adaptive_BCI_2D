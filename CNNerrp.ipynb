{
  "nbformat": 4,
  "nbformat_minor": 0,
  "metadata": {
    "colab": {
      "provenance": [],
      "include_colab_link": true
    },
    "kernelspec": {
      "name": "python3",
      "display_name": "Python 3"
    },
    "language_info": {
      "name": "python"
    },
    "gpuClass": "standard",
    "accelerator": "GPU"
  },
  "cells": [
    {
      "cell_type": "markdown",
      "metadata": {
        "id": "view-in-github",
        "colab_type": "text"
      },
      "source": [
        "<a href=\"https://colab.research.google.com/github/JuelGeorge/Adaptive_BCI_2D/blob/main/CNNerrp.ipynb\" target=\"_parent\"><img src=\"https://colab.research.google.com/assets/colab-badge.svg\" alt=\"Open In Colab\"/></a>"
      ]
    },
    {
      "cell_type": "code",
      "source": [
        "while 1:\n",
        "  pass"
      ],
      "metadata": {
        "id": "jP9XM88PJRqz"
      },
      "execution_count": null,
      "outputs": []
    },
    {
      "cell_type": "code",
      "source": [
        "import numpy as np\n",
        "import matplotlib.pyplot as plt\n",
        "import scipy.io"
      ],
      "metadata": {
        "id": "yaTiqWqM5Qx-"
      },
      "execution_count": 2,
      "outputs": []
    },
    {
      "cell_type": "code",
      "source": [
        "events = scipy.io.loadmat('/content/drive/MyDrive/data/all_events512.mat')['all_events']\n",
        "data = scipy.io.loadmat('/content/drive/MyDrive/data/all_data512.mat')['all_data']\n",
        "events = events.T\n",
        "cz_fz=data[46:48,:,:]\n",
        "data=cz_fz.reshape((6437,2,512))"
      ],
      "metadata": {
        "id": "ttgMjNPq5d5M"
      },
      "execution_count": null,
      "outputs": []
    },
    {
      "cell_type": "code",
      "source": [
        "events[events == 1] = 0   #ERRP\n",
        "events[events == 2] = 1   #NOERRP"
      ],
      "metadata": {
        "id": "6k-WJa8MHuDH"
      },
      "execution_count": null,
      "outputs": []
    },
    {
      "cell_type": "code",
      "source": [
        "np.shape(events)"
      ],
      "metadata": {
        "colab": {
          "base_uri": "https://localhost:8080/"
        },
        "id": "Sj9vmCP9KJY6",
        "outputId": "85c411e3-6c77-4e02-e38a-dfc575a71b4b"
      },
      "execution_count": null,
      "outputs": [
        {
          "output_type": "execute_result",
          "data": {
            "text/plain": [
              "(6437, 1)"
            ]
          },
          "metadata": {},
          "execution_count": 5
        }
      ]
    },
    {
      "cell_type": "code",
      "execution_count": 3,
      "metadata": {
        "id": "coaQA9e_OEn6"
      },
      "outputs": [],
      "source": [
        "import tensorflow as tf\n",
        "from tensorflow import keras\n",
        "from keras.models import Sequential, load_model\n",
        "from keras.layers import *\n",
        "\n",
        "gpus = tf.config.experimental.list_physical_devices('GPU')\n",
        "for gpu in gpus:\n",
        "  tf.config.experimental.set_memory_growth(gpu, True)"
      ]
    },
    {
      "cell_type": "markdown",
      "source": [
        "Changes\n",
        "1. Flatten instead of global average\n",
        "2. Doubled the filter depth in some layers to increase learnables"
      ],
      "metadata": {
        "id": "IdusBzerfzLu"
      }
    },
    {
      "cell_type": "code",
      "source": [
        "model = Sequential()\n",
        "reg = tf.keras.regularizers.L2(l2=0.0001)\n",
        "model.add(InputLayer(input_shape=(1, 512,1)))\n",
        "\n",
        "#Stage 1\n",
        "model.add(Conv2D(filters=32, kernel_size=(1,64), kernel_regularizer=reg,padding='valid'))\n",
        "\n",
        "#Stage 2\n",
        "model.add(Conv2D(filters=32, kernel_size=(1,64), activation='relu', kernel_regularizer=reg,padding='valid'))\n",
        "model.add(MaxPool2D(pool_size=(1,2)))\n",
        "\n",
        "#Stage 3\n",
        "model.add(Conv2D(filters=64, kernel_size=(1,32), activation='relu', kernel_regularizer=reg,padding='valid'))\n",
        "model.add(MaxPool2D(pool_size=(1,2)))\n",
        "\n",
        "#Stage 4\n",
        "model.add(Conv2D(filters=64, kernel_size=(1,16), activation='relu', kernel_regularizer=reg,padding='valid'))\n",
        "model.add(MaxPool2D(pool_size=(1,2)))\n",
        "\n",
        "#Stage 5\n",
        "model.add(Flatten())\n",
        "model.add(Dense(units=2, activation='softmax', kernel_regularizer=reg))\n",
        "#model.add(GlobalAveragePooling2D())"
      ],
      "metadata": {
        "id": "416G433F-r5t"
      },
      "execution_count": 25,
      "outputs": []
    },
    {
      "cell_type": "code",
      "source": [
        "opt = tf.keras.optimizers.experimental.SGD(learning_rate=0.001, momentum=0.9)\n",
        "model.compile(opt, loss=tf.losses.BinaryCrossentropy(), metrics=['accuracy'])"
      ],
      "metadata": {
        "id": "ZKluZfJHEX35"
      },
      "execution_count": 27,
      "outputs": []
    },
    {
      "cell_type": "code",
      "source": [
        "model.summary()"
      ],
      "metadata": {
        "colab": {
          "base_uri": "https://localhost:8080/"
        },
        "id": "MZrg5IJ8FrNN",
        "outputId": "894631c9-17d4-4349-c563-5f420b2cb0fd"
      },
      "execution_count": 26,
      "outputs": [
        {
          "output_type": "stream",
          "name": "stdout",
          "text": [
            "Model: \"sequential_13\"\n",
            "_________________________________________________________________\n",
            " Layer (type)                Output Shape              Param #   \n",
            "=================================================================\n",
            " conv2d_40 (Conv2D)          (None, 1, 449, 32)        2080      \n",
            "                                                                 \n",
            " conv2d_41 (Conv2D)          (None, 1, 386, 32)        65568     \n",
            "                                                                 \n",
            " max_pooling2d_27 (MaxPoolin  (None, 1, 193, 32)       0         \n",
            " g2D)                                                            \n",
            "                                                                 \n",
            " conv2d_42 (Conv2D)          (None, 1, 162, 64)        65600     \n",
            "                                                                 \n",
            " max_pooling2d_28 (MaxPoolin  (None, 1, 81, 64)        0         \n",
            " g2D)                                                            \n",
            "                                                                 \n",
            " conv2d_43 (Conv2D)          (None, 1, 66, 64)         65600     \n",
            "                                                                 \n",
            " max_pooling2d_29 (MaxPoolin  (None, 1, 33, 64)        0         \n",
            " g2D)                                                            \n",
            "                                                                 \n",
            " flatten_6 (Flatten)         (None, 2112)              0         \n",
            "                                                                 \n",
            " dense_9 (Dense)             (None, 2)                 4226      \n",
            "                                                                 \n",
            "=================================================================\n",
            "Total params: 203,074\n",
            "Trainable params: 203,074\n",
            "Non-trainable params: 0\n",
            "_________________________________________________________________\n"
          ]
        }
      ]
    },
    {
      "cell_type": "code",
      "source": [
        "from sklearn.model_selection import train_test_split\n",
        "dataTrain, dataTest, eventsTrain, eventsTest = train_test_split(data, events, test_size = 0.2)"
      ],
      "metadata": {
        "id": "DgWMMsFxHnsp",
        "outputId": "2533971d-7f8b-4b8d-8ac0-0efb83717cf6",
        "colab": {
          "base_uri": "https://localhost:8080/",
          "height": 181
        }
      },
      "execution_count": 28,
      "outputs": [
        {
          "output_type": "error",
          "ename": "NameError",
          "evalue": "ignored",
          "traceback": [
            "\u001b[0;31m---------------------------------------------------------------------------\u001b[0m",
            "\u001b[0;31mNameError\u001b[0m                                 Traceback (most recent call last)",
            "\u001b[0;32m<ipython-input-28-a6866e162b1e>\u001b[0m in \u001b[0;36m<module>\u001b[0;34m\u001b[0m\n\u001b[1;32m      1\u001b[0m \u001b[0;32mfrom\u001b[0m \u001b[0msklearn\u001b[0m\u001b[0;34m.\u001b[0m\u001b[0mmodel_selection\u001b[0m \u001b[0;32mimport\u001b[0m \u001b[0mtrain_test_split\u001b[0m\u001b[0;34m\u001b[0m\u001b[0;34m\u001b[0m\u001b[0m\n\u001b[0;32m----> 2\u001b[0;31m \u001b[0mdataTrain\u001b[0m\u001b[0;34m,\u001b[0m \u001b[0mdataTest\u001b[0m\u001b[0;34m,\u001b[0m \u001b[0meventsTrain\u001b[0m\u001b[0;34m,\u001b[0m \u001b[0meventsTest\u001b[0m \u001b[0;34m=\u001b[0m \u001b[0mtrain_test_split\u001b[0m\u001b[0;34m(\u001b[0m\u001b[0mdata\u001b[0m\u001b[0;34m,\u001b[0m \u001b[0mevents\u001b[0m\u001b[0;34m,\u001b[0m \u001b[0mtest_size\u001b[0m \u001b[0;34m=\u001b[0m \u001b[0;36m0.2\u001b[0m\u001b[0;34m)\u001b[0m\u001b[0;34m\u001b[0m\u001b[0;34m\u001b[0m\u001b[0m\n\u001b[0m",
            "\u001b[0;31mNameError\u001b[0m: name 'data' is not defined"
          ]
        }
      ]
    },
    {
      "cell_type": "code",
      "source": [
        "np.shape(eventsTrain)"
      ],
      "metadata": {
        "colab": {
          "base_uri": "https://localhost:8080/"
        },
        "id": "jmqdxYI7LcS3",
        "outputId": "26eb65ec-3545-4082-a9a5-2c3676451edf"
      },
      "execution_count": null,
      "outputs": [
        {
          "output_type": "execute_result",
          "data": {
            "text/plain": [
              "(5149, 1)"
            ]
          },
          "metadata": {},
          "execution_count": 22
        }
      ]
    },
    {
      "cell_type": "code",
      "source": [
        "model.fit(dataTrain, eventsTrain, batch_size = 512, epochs = 500,validation_data=(dataTest,eventsTest))"
      ],
      "metadata": {
        "colab": {
          "base_uri": "https://localhost:8080/"
        },
        "id": "LefwgnqdIVOU",
        "outputId": "24b0dd8e-8935-4b85-b981-b2905155a2aa"
      },
      "execution_count": null,
      "outputs": [
        {
          "output_type": "stream",
          "name": "stdout",
          "text": [
            "Epoch 1/100\n",
            "81/81 [==============================] - 13s 142ms/step - loss: 0.7028 - accuracy: 0.3795\n",
            "Epoch 2/100\n",
            "81/81 [==============================] - 12s 144ms/step - loss: 0.7027 - accuracy: 0.3863\n",
            "Epoch 3/100\n",
            "81/81 [==============================] - 11s 141ms/step - loss: 0.7027 - accuracy: 0.3913\n",
            "Epoch 4/100\n",
            "81/81 [==============================] - 11s 140ms/step - loss: 0.7027 - accuracy: 0.4115\n",
            "Epoch 5/100\n",
            "81/81 [==============================] - 11s 141ms/step - loss: 0.7027 - accuracy: 0.4129\n",
            "Epoch 6/100\n",
            "81/81 [==============================] - 11s 139ms/step - loss: 0.7027 - accuracy: 0.4135\n",
            "Epoch 7/100\n",
            "81/81 [==============================] - 11s 139ms/step - loss: 0.7027 - accuracy: 0.4195\n",
            "Epoch 8/100\n",
            "81/81 [==============================] - 11s 140ms/step - loss: 0.7027 - accuracy: 0.4267\n",
            "Epoch 9/100\n",
            "81/81 [==============================] - 11s 141ms/step - loss: 0.7027 - accuracy: 0.4337\n",
            "Epoch 10/100\n",
            "81/81 [==============================] - 11s 141ms/step - loss: 0.7027 - accuracy: 0.4370\n",
            "Epoch 11/100\n",
            "81/81 [==============================] - 11s 141ms/step - loss: 0.7027 - accuracy: 0.4447\n",
            "Epoch 12/100\n",
            "81/81 [==============================] - 11s 140ms/step - loss: 0.7027 - accuracy: 0.4494\n",
            "Epoch 13/100\n",
            "81/81 [==============================] - 11s 140ms/step - loss: 0.7027 - accuracy: 0.4531\n",
            "Epoch 14/100\n",
            "81/81 [==============================] - 11s 140ms/step - loss: 0.7027 - accuracy: 0.4581\n",
            "Epoch 15/100\n",
            "81/81 [==============================] - 11s 140ms/step - loss: 0.7027 - accuracy: 0.4642\n",
            "Epoch 16/100\n",
            "81/81 [==============================] - 11s 141ms/step - loss: 0.7027 - accuracy: 0.4624\n",
            "Epoch 17/100\n",
            "81/81 [==============================] - 11s 141ms/step - loss: 0.7027 - accuracy: 0.4702\n",
            "Epoch 18/100\n",
            "81/81 [==============================] - 11s 141ms/step - loss: 0.7027 - accuracy: 0.4721\n",
            "Epoch 19/100\n",
            "81/81 [==============================] - 11s 141ms/step - loss: 0.7027 - accuracy: 0.4752\n",
            "Epoch 20/100\n",
            "81/81 [==============================] - 11s 141ms/step - loss: 0.7027 - accuracy: 0.4717\n",
            "Epoch 21/100\n",
            "81/81 [==============================] - 11s 141ms/step - loss: 0.7027 - accuracy: 0.4762\n",
            "Epoch 22/100\n",
            "81/81 [==============================] - 11s 141ms/step - loss: 0.7027 - accuracy: 0.4813\n",
            "Epoch 23/100\n",
            "81/81 [==============================] - 11s 140ms/step - loss: 0.7027 - accuracy: 0.4782\n",
            "Epoch 24/100\n",
            "81/81 [==============================] - 11s 141ms/step - loss: 0.7027 - accuracy: 0.4855\n",
            "Epoch 25/100\n",
            "81/81 [==============================] - 11s 141ms/step - loss: 0.7027 - accuracy: 0.4921\n",
            "Epoch 26/100\n",
            "81/81 [==============================] - 11s 141ms/step - loss: 0.7027 - accuracy: 0.4884\n",
            "Epoch 27/100\n",
            "81/81 [==============================] - 11s 140ms/step - loss: 0.7027 - accuracy: 0.4881\n",
            "Epoch 28/100\n",
            "81/81 [==============================] - 11s 141ms/step - loss: 0.7027 - accuracy: 0.4960\n",
            "Epoch 29/100\n",
            "81/81 [==============================] - 11s 141ms/step - loss: 0.7027 - accuracy: 0.4879\n",
            "Epoch 30/100\n",
            "81/81 [==============================] - 11s 141ms/step - loss: 0.7027 - accuracy: 0.4954\n",
            "Epoch 31/100\n",
            "81/81 [==============================] - 11s 141ms/step - loss: 0.7027 - accuracy: 0.4923\n",
            "Epoch 32/100\n",
            "81/81 [==============================] - 11s 141ms/step - loss: 0.7027 - accuracy: 0.4970\n",
            "Epoch 33/100\n",
            "81/81 [==============================] - 11s 141ms/step - loss: 0.7026 - accuracy: 0.5009\n",
            "Epoch 34/100\n",
            "81/81 [==============================] - 11s 140ms/step - loss: 0.7026 - accuracy: 0.4869\n",
            "Epoch 35/100\n",
            "81/81 [==============================] - 12s 146ms/step - loss: 0.7026 - accuracy: 0.5030\n",
            "Epoch 36/100\n",
            "81/81 [==============================] - 11s 141ms/step - loss: 0.7026 - accuracy: 0.4950\n",
            "Epoch 37/100\n",
            "81/81 [==============================] - 11s 141ms/step - loss: 0.7026 - accuracy: 0.4947\n",
            "Epoch 38/100\n",
            "81/81 [==============================] - 11s 140ms/step - loss: 0.7026 - accuracy: 0.4964\n",
            "Epoch 39/100\n",
            "81/81 [==============================] - 11s 141ms/step - loss: 0.7026 - accuracy: 0.5005\n",
            "Epoch 40/100\n",
            "81/81 [==============================] - 11s 141ms/step - loss: 0.7026 - accuracy: 0.4999\n",
            "Epoch 41/100\n",
            "81/81 [==============================] - 11s 140ms/step - loss: 0.7026 - accuracy: 0.5059\n",
            "Epoch 42/100\n",
            "81/81 [==============================] - 11s 140ms/step - loss: 0.7026 - accuracy: 0.5053\n",
            "Epoch 43/100\n",
            "81/81 [==============================] - 11s 140ms/step - loss: 0.7026 - accuracy: 0.4968\n",
            "Epoch 44/100\n",
            "81/81 [==============================] - 11s 140ms/step - loss: 0.7026 - accuracy: 0.5030\n",
            "Epoch 45/100\n",
            "81/81 [==============================] - 11s 141ms/step - loss: 0.7026 - accuracy: 0.5061\n",
            "Epoch 46/100\n",
            "81/81 [==============================] - 11s 140ms/step - loss: 0.7026 - accuracy: 0.5018\n",
            "Epoch 47/100\n",
            "81/81 [==============================] - 11s 140ms/step - loss: 0.7026 - accuracy: 0.5026\n",
            "Epoch 48/100\n",
            "81/81 [==============================] - 11s 140ms/step - loss: 0.7026 - accuracy: 0.5094\n",
            "Epoch 49/100\n",
            "81/81 [==============================] - 11s 140ms/step - loss: 0.7026 - accuracy: 0.5024\n",
            "Epoch 50/100\n",
            "81/81 [==============================] - 11s 141ms/step - loss: 0.7026 - accuracy: 0.5040\n",
            "Epoch 51/100\n",
            "81/81 [==============================] - 11s 140ms/step - loss: 0.7026 - accuracy: 0.5050\n",
            "Epoch 52/100\n",
            "81/81 [==============================] - 11s 140ms/step - loss: 0.7026 - accuracy: 0.5094\n",
            "Epoch 53/100\n",
            "81/81 [==============================] - 11s 140ms/step - loss: 0.7026 - accuracy: 0.5083\n",
            "Epoch 54/100\n",
            "81/81 [==============================] - 11s 140ms/step - loss: 0.7026 - accuracy: 0.5009\n",
            "Epoch 55/100\n",
            "81/81 [==============================] - 11s 140ms/step - loss: 0.7026 - accuracy: 0.5026\n",
            "Epoch 56/100\n",
            "81/81 [==============================] - 11s 140ms/step - loss: 0.7026 - accuracy: 0.5084\n",
            "Epoch 57/100\n",
            "81/81 [==============================] - 11s 140ms/step - loss: 0.7026 - accuracy: 0.5048\n",
            "Epoch 58/100\n",
            "81/81 [==============================] - 11s 140ms/step - loss: 0.7026 - accuracy: 0.5098\n",
            "Epoch 59/100\n",
            "81/81 [==============================] - 11s 140ms/step - loss: 0.7026 - accuracy: 0.5032\n",
            "Epoch 60/100\n",
            "81/81 [==============================] - 11s 141ms/step - loss: 0.7026 - accuracy: 0.5112\n",
            "Epoch 61/100\n",
            "81/81 [==============================] - 11s 140ms/step - loss: 0.7026 - accuracy: 0.5110\n",
            "Epoch 62/100\n",
            "81/81 [==============================] - 11s 140ms/step - loss: 0.7026 - accuracy: 0.5079\n",
            "Epoch 63/100\n",
            "81/81 [==============================] - 11s 141ms/step - loss: 0.7026 - accuracy: 0.5055\n",
            "Epoch 64/100\n",
            "81/81 [==============================] - 11s 140ms/step - loss: 0.7026 - accuracy: 0.5125\n",
            "Epoch 65/100\n",
            "81/81 [==============================] - 11s 140ms/step - loss: 0.7026 - accuracy: 0.5094\n",
            "Epoch 66/100\n",
            "81/81 [==============================] - 11s 140ms/step - loss: 0.7025 - accuracy: 0.5067\n",
            "Epoch 67/100\n",
            "81/81 [==============================] - 11s 140ms/step - loss: 0.7025 - accuracy: 0.5100\n",
            "Epoch 68/100\n",
            "81/81 [==============================] - 11s 140ms/step - loss: 0.7025 - accuracy: 0.5071\n",
            "Epoch 69/100\n",
            "81/81 [==============================] - 11s 140ms/step - loss: 0.7025 - accuracy: 0.5143\n",
            "Epoch 70/100\n",
            "81/81 [==============================] - 11s 140ms/step - loss: 0.7025 - accuracy: 0.5071\n",
            "Epoch 71/100\n",
            "81/81 [==============================] - 11s 140ms/step - loss: 0.7025 - accuracy: 0.5065\n",
            "Epoch 72/100\n",
            "81/81 [==============================] - 11s 140ms/step - loss: 0.7025 - accuracy: 0.5116\n",
            "Epoch 73/100\n",
            "81/81 [==============================] - 11s 140ms/step - loss: 0.7025 - accuracy: 0.5106\n",
            "Epoch 74/100\n",
            "81/81 [==============================] - 11s 140ms/step - loss: 0.7025 - accuracy: 0.5102\n",
            "Epoch 75/100\n",
            "81/81 [==============================] - 11s 140ms/step - loss: 0.7025 - accuracy: 0.5096\n",
            "Epoch 76/100\n",
            "81/81 [==============================] - 11s 141ms/step - loss: 0.7025 - accuracy: 0.5084\n",
            "Epoch 77/100\n",
            "81/81 [==============================] - 11s 141ms/step - loss: 0.7025 - accuracy: 0.5081\n",
            "Epoch 78/100\n",
            "81/81 [==============================] - 11s 140ms/step - loss: 0.7025 - accuracy: 0.5092\n",
            "Epoch 79/100\n",
            "81/81 [==============================] - 11s 141ms/step - loss: 0.7025 - accuracy: 0.5117\n",
            "Epoch 80/100\n",
            "81/81 [==============================] - 11s 141ms/step - loss: 0.7025 - accuracy: 0.5096\n",
            "Epoch 81/100\n",
            "81/81 [==============================] - 11s 141ms/step - loss: 0.7025 - accuracy: 0.5108\n",
            "Epoch 82/100\n",
            "81/81 [==============================] - 11s 141ms/step - loss: 0.7025 - accuracy: 0.5119\n",
            "Epoch 83/100\n",
            "81/81 [==============================] - 11s 141ms/step - loss: 0.7025 - accuracy: 0.5065\n",
            "Epoch 84/100\n",
            "81/81 [==============================] - 11s 141ms/step - loss: 0.7025 - accuracy: 0.5139\n",
            "Epoch 85/100\n",
            "81/81 [==============================] - 11s 141ms/step - loss: 0.7025 - accuracy: 0.5065\n",
            "Epoch 86/100\n",
            "81/81 [==============================] - 11s 141ms/step - loss: 0.7025 - accuracy: 0.5112\n",
            "Epoch 87/100\n",
            "81/81 [==============================] - 11s 141ms/step - loss: 0.7025 - accuracy: 0.5131\n",
            "Epoch 88/100\n",
            "81/81 [==============================] - 11s 140ms/step - loss: 0.7025 - accuracy: 0.5121\n",
            "Epoch 89/100\n",
            "81/81 [==============================] - 11s 140ms/step - loss: 0.7025 - accuracy: 0.5116\n",
            "Epoch 90/100\n",
            "81/81 [==============================] - 11s 141ms/step - loss: 0.7025 - accuracy: 0.5117\n",
            "Epoch 91/100\n",
            "81/81 [==============================] - 11s 141ms/step - loss: 0.7025 - accuracy: 0.5133\n",
            "Epoch 92/100\n",
            "81/81 [==============================] - 11s 141ms/step - loss: 0.7025 - accuracy: 0.5081\n",
            "Epoch 93/100\n",
            "81/81 [==============================] - 11s 141ms/step - loss: 0.7025 - accuracy: 0.5096\n",
            "Epoch 94/100\n",
            "81/81 [==============================] - 11s 140ms/step - loss: 0.7025 - accuracy: 0.5135\n",
            "Epoch 95/100\n",
            "81/81 [==============================] - 11s 141ms/step - loss: 0.7025 - accuracy: 0.5100\n",
            "Epoch 96/100\n",
            "81/81 [==============================] - 11s 141ms/step - loss: 0.7025 - accuracy: 0.5116\n",
            "Epoch 97/100\n",
            "81/81 [==============================] - 11s 141ms/step - loss: 0.7025 - accuracy: 0.5104\n",
            "Epoch 98/100\n",
            "81/81 [==============================] - 11s 141ms/step - loss: 0.7025 - accuracy: 0.5135\n",
            "Epoch 99/100\n",
            "81/81 [==============================] - 11s 141ms/step - loss: 0.7024 - accuracy: 0.5106\n",
            "Epoch 100/100\n",
            "81/81 [==============================] - 11s 141ms/step - loss: 0.7024 - accuracy: 0.5137\n"
          ]
        },
        {
          "output_type": "execute_result",
          "data": {
            "text/plain": [
              "<keras.callbacks.History at 0x7fd1099b44f0>"
            ]
          },
          "metadata": {},
          "execution_count": 30
        }
      ]
    },
    {
      "cell_type": "code",
      "source": [
        "eventsPred = model.predict(dataTest)\n",
        "eventsClasses = np.argmax(eventsPred,axis=1)"
      ],
      "metadata": {
        "id": "6p3zW6XZYcRa"
      },
      "execution_count": null,
      "outputs": []
    },
    {
      "cell_type": "code",
      "source": [
        "import sys\n",
        "np.set_printoptions(threshold=sys.maxsize)"
      ],
      "metadata": {
        "id": "5Hgw1mGBQjZC"
      },
      "execution_count": null,
      "outputs": []
    },
    {
      "cell_type": "code",
      "source": [
        "n=23\n",
        "print(eventsClasses[n])\n",
        "print(eventsTest[n])"
      ],
      "metadata": {
        "id": "1IzPq9vAY77G"
      },
      "execution_count": null,
      "outputs": []
    }
  ]
}