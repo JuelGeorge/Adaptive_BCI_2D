{
  "nbformat": 4,
  "nbformat_minor": 0,
  "metadata": {
    "colab": {
      "provenance": [],
      "authorship_tag": "ABX9TyNr8c4uFj1KTff4j2sQuURq",
      "include_colab_link": true
    },
    "kernelspec": {
      "name": "python3",
      "display_name": "Python 3"
    },
    "language_info": {
      "name": "python"
    }
  },
  "cells": [
    {
      "cell_type": "markdown",
      "metadata": {
        "id": "view-in-github",
        "colab_type": "text"
      },
      "source": [
        "<a href=\"https://colab.research.google.com/github/JuelGeorge/Adaptive_BCI_2D/blob/main/ErrPGAN.ipynb\" target=\"_parent\"><img src=\"https://colab.research.google.com/assets/colab-badge.svg\" alt=\"Open In Colab\"/></a>"
      ]
    },
    {
      "cell_type": "code",
      "execution_count": null,
      "metadata": {
        "id": "Snc4nkNAHV6y"
      },
      "outputs": [],
      "source": [
        "!pip install tensorflow tensorflow-gpu matplotlib tensorflow-datasets ipywidgets\n"
      ]
    },
    {
      "cell_type": "markdown",
      "source": [
        "asdf"
      ],
      "metadata": {
        "id": "SslOAATlHWuK"
      }
    },
    {
      "cell_type": "code",
      "source": [
        "import tensorflow as tf\n"
      ],
      "metadata": {
        "id": "scjzWsdTKQXM"
      },
      "execution_count": 1,
      "outputs": []
    },
    {
      "cell_type": "code",
      "source": [
        "!pip list"
      ],
      "metadata": {
        "id": "QjfhKjwZKfWN"
      },
      "execution_count": null,
      "outputs": []
    },
    {
      "cell_type": "code",
      "source": [
        "# Bringing in tensorflow\n",
        "import tensorflow as tf\n",
        "gpus = tf.config.experimental.list_physical_devices('GPU')\n",
        "for gpu in gpus: \n",
        "    tf.config.experimental.set_memory_growth(gpu, True)"
      ],
      "metadata": {
        "id": "1_rIj9tlKkfe"
      },
      "execution_count": 2,
      "outputs": []
    },
    {
      "cell_type": "code",
      "source": [
        "# Brining in tensorflow datasets for fashion mnist \n",
        "import tensorflow_datasets as tfds\n",
        "# Bringing in matplotlib for viz stuff\n",
        "from matplotlib import pyplot as plt"
      ],
      "metadata": {
        "id": "66HqSxxcKmAc"
      },
      "execution_count": 3,
      "outputs": []
    },
    {
      "cell_type": "markdown",
      "source": [
        "Some preliminary imports"
      ],
      "metadata": {
        "id": "dX9D2pUeahR4"
      }
    },
    {
      "cell_type": "code",
      "source": [
        "# Bring in the sequential api for the generator and discriminator\n",
        "from tensorflow.keras.models import Sequential\n",
        "# Bring in the layers for the neural network\n",
        "from tensorflow.keras.layers import Conv2D, Dense, Flatten, Reshape, LeakyReLU, Dropout, UpSampling2D, UpSampling1D, Conv1D,Resizing, BatchNormalization, MaxPooling2D,ReLU,Softmax"
      ],
      "metadata": {
        "id": "9vwj8WOwLEC9"
      },
      "execution_count": 154,
      "outputs": []
    },
    {
      "cell_type": "markdown",
      "source": [
        "Generator model-"
      ],
      "metadata": {
        "id": "KnuXJpAZac4X"
      }
    },
    {
      "cell_type": "code",
      "source": [
        "def build_generator(): \n",
        "    model = Sequential()\n",
        "    \n",
        "    # Takes in random values and reshapes it to 7x7x128\n",
        "    # Beginnings of a generated image\n",
        "    model.add(Dense(1*4*64, input_dim=64))\n",
        "    model.add(BatchNormalization())\n",
        "    \n",
        "    model.add(LeakyReLU(0.2))\n",
        "    model.add(Reshape((1,4,64)))\n",
        "    model.add(Conv2D(64,4,padding='same'))\n",
        "    model.add(LeakyReLU(0.2))\n",
        "    model.add(BatchNormalization())\n",
        "    \n",
        "    \n",
        "    model.add(UpSampling2D(size=(1,2)))\n",
        "    model.add(Conv2D(64,4,padding='same'))\n",
        "    model.add(LeakyReLU(0.2))\n",
        "    model.add(BatchNormalization())\n",
        "   \n",
        "    \n",
        "    model.add(UpSampling2D(size=(1,2)))\n",
        "    model.add(Conv2D(64,4,padding='same'))\n",
        "    model.add(LeakyReLU(0.2))\n",
        "    model.add(BatchNormalization())\n",
        "   \n",
        "\n",
        "    model.add(UpSampling2D(size=(1,2)))\n",
        "    model.add(Conv2D(64,4,padding='same'))\n",
        "    model.add(LeakyReLU(0.2))\n",
        "    model.add(BatchNormalization())\n",
        "  \n",
        "\n",
        "    model.add(UpSampling2D(size=(1,2)))\n",
        "    model.add(Conv2D(64,4,padding='same'))\n",
        "    model.add(LeakyReLU(0.2))\n",
        "    model.add(BatchNormalization())\n",
        "\n",
        "\n",
        "    model.add(UpSampling2D(size=(1,2),))\n",
        "    model.add(Conv2D(64,4,padding='same',activation='tanh'))\n",
        "    model.add(BatchNormalization())\n",
        " \n",
        "   \n",
        "    return model"
      ],
      "metadata": {
        "id": "91_i5_2fLIaW"
      },
      "execution_count": 160,
      "outputs": []
    },
    {
      "cell_type": "markdown",
      "source": [
        "Instanstiate the generator model and view a layer by layer summary"
      ],
      "metadata": {
        "id": "VCjy6IU8amTL"
      }
    },
    {
      "cell_type": "code",
      "source": [
        "gen=build_generator()\n",
        "gen.summary()"
      ],
      "metadata": {
        "colab": {
          "base_uri": "https://localhost:8080/"
        },
        "id": "7U9a0gTmLsjS",
        "outputId": "fd1e8972-7177-4c2c-a1a7-0b529a5670f6"
      },
      "execution_count": 161,
      "outputs": [
        {
          "output_type": "stream",
          "name": "stdout",
          "text": [
            "Model: \"sequential_71\"\n",
            "_________________________________________________________________\n",
            " Layer (type)                Output Shape              Param #   \n",
            "=================================================================\n",
            " dense_5 (Dense)             (None, 256)               16640     \n",
            "                                                                 \n",
            " batch_normalization_27 (Bat  (None, 256)              1024      \n",
            " chNormalization)                                                \n",
            "                                                                 \n",
            " leaky_re_lu_31 (LeakyReLU)  (None, 256)               0         \n",
            "                                                                 \n",
            " reshape_1 (Reshape)         (None, 1, 4, 64)          0         \n",
            "                                                                 \n",
            " conv2d_46 (Conv2D)          (None, 1, 4, 64)          65600     \n",
            "                                                                 \n",
            " leaky_re_lu_32 (LeakyReLU)  (None, 1, 4, 64)          0         \n",
            "                                                                 \n",
            " batch_normalization_28 (Bat  (None, 1, 4, 64)         256       \n",
            " chNormalization)                                                \n",
            "                                                                 \n",
            " up_sampling2d_37 (UpSamplin  (None, 1, 8, 64)         0         \n",
            " g2D)                                                            \n",
            "                                                                 \n",
            " conv2d_47 (Conv2D)          (None, 1, 8, 64)          65600     \n",
            "                                                                 \n",
            " leaky_re_lu_33 (LeakyReLU)  (None, 1, 8, 64)          0         \n",
            "                                                                 \n",
            " batch_normalization_29 (Bat  (None, 1, 8, 64)         256       \n",
            " chNormalization)                                                \n",
            "                                                                 \n",
            " up_sampling2d_38 (UpSamplin  (None, 1, 16, 64)        0         \n",
            " g2D)                                                            \n",
            "                                                                 \n",
            " conv2d_48 (Conv2D)          (None, 1, 16, 64)         65600     \n",
            "                                                                 \n",
            " leaky_re_lu_34 (LeakyReLU)  (None, 1, 16, 64)         0         \n",
            "                                                                 \n",
            " batch_normalization_30 (Bat  (None, 1, 16, 64)        256       \n",
            " chNormalization)                                                \n",
            "                                                                 \n",
            " up_sampling2d_39 (UpSamplin  (None, 1, 32, 64)        0         \n",
            " g2D)                                                            \n",
            "                                                                 \n",
            " conv2d_49 (Conv2D)          (None, 1, 32, 64)         65600     \n",
            "                                                                 \n",
            " leaky_re_lu_35 (LeakyReLU)  (None, 1, 32, 64)         0         \n",
            "                                                                 \n",
            " batch_normalization_31 (Bat  (None, 1, 32, 64)        256       \n",
            " chNormalization)                                                \n",
            "                                                                 \n",
            " up_sampling2d_40 (UpSamplin  (None, 1, 64, 64)        0         \n",
            " g2D)                                                            \n",
            "                                                                 \n",
            " conv2d_50 (Conv2D)          (None, 1, 64, 64)         65600     \n",
            "                                                                 \n",
            " leaky_re_lu_36 (LeakyReLU)  (None, 1, 64, 64)         0         \n",
            "                                                                 \n",
            " batch_normalization_32 (Bat  (None, 1, 64, 64)        256       \n",
            " chNormalization)                                                \n",
            "                                                                 \n",
            " up_sampling2d_41 (UpSamplin  (None, 1, 128, 64)       0         \n",
            " g2D)                                                            \n",
            "                                                                 \n",
            " conv2d_51 (Conv2D)          (None, 1, 128, 64)        65600     \n",
            "                                                                 \n",
            " batch_normalization_33 (Bat  (None, 1, 128, 64)       256       \n",
            " chNormalization)                                                \n",
            "                                                                 \n",
            "=================================================================\n",
            "Total params: 412,800\n",
            "Trainable params: 411,520\n",
            "Non-trainable params: 1,280\n",
            "_________________________________________________________________\n"
          ]
        }
      ]
    },
    {
      "cell_type": "markdown",
      "source": [
        "Generate 4 ErrP datasets. 64 Channels x 128 samples for each dataset."
      ],
      "metadata": {
        "id": "6Nn87H43axzn"
      }
    },
    {
      "cell_type": "code",
      "source": [
        "import numpy as np\n",
        "img=gen.predict(np.random.randn(4,64,1))\n",
        "img\n",
        "img.shape"
      ],
      "metadata": {
        "colab": {
          "base_uri": "https://localhost:8080/"
        },
        "id": "RsWWw0lzLYzT",
        "outputId": "300ec172-917b-48c0-b863-70405e1a4a6f"
      },
      "execution_count": 162,
      "outputs": [
        {
          "output_type": "stream",
          "name": "stdout",
          "text": [
            "1/1 [==============================] - 1s 573ms/step\n"
          ]
        },
        {
          "output_type": "execute_result",
          "data": {
            "text/plain": [
              "(4, 1, 128, 64)"
            ]
          },
          "metadata": {},
          "execution_count": 162
        }
      ]
    },
    {
      "cell_type": "markdown",
      "source": [],
      "metadata": {
        "id": "ryl0hWIUa5JG"
      }
    },
    {
      "cell_type": "code",
      "source": [
        "img.shape"
      ],
      "metadata": {
        "colab": {
          "base_uri": "https://localhost:8080/"
        },
        "id": "TKAJ-5csNATr",
        "outputId": "5fa48c70-89c2-4ce3-8406-30b75ade0cb6"
      },
      "execution_count": 163,
      "outputs": [
        {
          "output_type": "execute_result",
          "data": {
            "text/plain": [
              "(4, 1, 128, 64)"
            ]
          },
          "metadata": {},
          "execution_count": 163
        }
      ]
    },
    {
      "cell_type": "markdown",
      "source": [
        "First Errp Dataset, channel 2-"
      ],
      "metadata": {
        "id": "7IcRFxHUa6Sm"
      }
    },
    {
      "cell_type": "code",
      "source": [
        "plt.plot(img[0,0,:,1])"
      ],
      "metadata": {
        "colab": {
          "base_uri": "https://localhost:8080/",
          "height": 285
        },
        "id": "M2jRkH6RQLkw",
        "outputId": "4c3c6910-530e-4c1e-8485-4ad518f2ac0c"
      },
      "execution_count": null,
      "outputs": [
        {
          "output_type": "execute_result",
          "data": {
            "text/plain": [
              "[<matplotlib.lines.Line2D at 0x7fa3bde79b10>]"
            ]
          },
          "metadata": {},
          "execution_count": 149
        },
        {
          "output_type": "display_data",
          "data": {
            "text/plain": [
              "<Figure size 432x288 with 1 Axes>"
            ],
            "image/png": "[encoded data removed]"
          },
          "metadata": {
            "needs_background": "light"
          }
        }
      ]
    },
    {
      "cell_type": "code",
      "source": [
        "def build_discriminator(): \n",
        "    model1 = Sequential()\n",
        "    \n",
        "    model1.add(MaxPooling2D(pool_size=(2,32),input_shape = (1,128,64),padding='same'))\n",
        "    model1.add(Conv2D(64,4,padding='same'))\n",
        "   \n",
        "   \n",
        "    model1.add(UpSampling2D(size=(1,2)))\n",
        "    model1.add(Conv2D(64,4,padding='same'))\n",
        "    model1.add(LeakyReLU(0.2))\n",
        "    model1.add(BatchNormalization())\n",
        "    \n",
        "    model1.add(UpSampling2D(size=(1,2)))\n",
        "    model1.add(Conv2D(64,4,padding='same'))\n",
        "    model1.add(LeakyReLU(0.2))\n",
        "    model1.add(BatchNormalization())\n",
        "    \n",
        "    model1.add(UpSampling2D(size=(1,2)))\n",
        "    model1.add(Conv2D(64,4,padding='same'))\n",
        "    model1.add(LeakyReLU(0.2))\n",
        "    model1.add(BatchNormalization())\n",
        "\n",
        "    model1.add(UpSampling2D(size=(1,2)))\n",
        "    model1.add(Conv2D(64,4,padding='same'))\n",
        "    model1.add(LeakyReLU(0.2))\n",
        "    model1.add(BatchNormalization())\n",
        "    \n",
        "    model1.add(Flatten())\n",
        "    \n",
        "    model1.add(Dense(128))\n",
        "    model1.add(ReLU())\n",
        "\n",
        "    model1.add(Dense(2))\n",
        "    model1.add(Softmax())\n",
        "\n",
        "\n",
        "\n",
        "   \n",
        "    model1.build()\n",
        "    return model1"
      ],
      "metadata": {
        "id": "CO0Y7c0m9Pc-"
      },
      "execution_count": 157,
      "outputs": []
    },
    {
      "cell_type": "code",
      "source": [
        "discriminator = build_discriminator()\n",
        "discriminator.summary()"
      ],
      "metadata": {
        "id": "42YRkYG09gB_",
        "outputId": "fdd7799b-1ea9-421a-ba35-e03b35fa48b8",
        "colab": {
          "base_uri": "https://localhost:8080/"
        }
      },
      "execution_count": 158,
      "outputs": [
        {
          "output_type": "stream",
          "name": "stdout",
          "text": [
            "Model: \"sequential_70\"\n",
            "_________________________________________________________________\n",
            " Layer (type)                Output Shape              Param #   \n",
            "=================================================================\n",
            " max_pooling2d_48 (MaxPoolin  (None, 1, 4, 64)         0         \n",
            " g2D)                                                            \n",
            "                                                                 \n",
            " conv2d_41 (Conv2D)          (None, 1, 4, 64)          65600     \n",
            "                                                                 \n",
            " up_sampling2d_33 (UpSamplin  (None, 1, 8, 64)         0         \n",
            " g2D)                                                            \n",
            "                                                                 \n",
            " conv2d_42 (Conv2D)          (None, 1, 8, 64)          65600     \n",
            "                                                                 \n",
            " leaky_re_lu_27 (LeakyReLU)  (None, 1, 8, 64)          0         \n",
            "                                                                 \n",
            " batch_normalization_23 (Bat  (None, 1, 8, 64)         256       \n",
            " chNormalization)                                                \n",
            "                                                                 \n",
            " up_sampling2d_34 (UpSamplin  (None, 1, 16, 64)        0         \n",
            " g2D)                                                            \n",
            "                                                                 \n",
            " conv2d_43 (Conv2D)          (None, 1, 16, 64)         65600     \n",
            "                                                                 \n",
            " leaky_re_lu_28 (LeakyReLU)  (None, 1, 16, 64)         0         \n",
            "                                                                 \n",
            " batch_normalization_24 (Bat  (None, 1, 16, 64)        256       \n",
            " chNormalization)                                                \n",
            "                                                                 \n",
            " up_sampling2d_35 (UpSamplin  (None, 1, 32, 64)        0         \n",
            " g2D)                                                            \n",
            "                                                                 \n",
            " conv2d_44 (Conv2D)          (None, 1, 32, 64)         65600     \n",
            "                                                                 \n",
            " leaky_re_lu_29 (LeakyReLU)  (None, 1, 32, 64)         0         \n",
            "                                                                 \n",
            " batch_normalization_25 (Bat  (None, 1, 32, 64)        256       \n",
            " chNormalization)                                                \n",
            "                                                                 \n",
            " up_sampling2d_36 (UpSamplin  (None, 1, 64, 64)        0         \n",
            " g2D)                                                            \n",
            "                                                                 \n",
            " conv2d_45 (Conv2D)          (None, 1, 64, 64)         65600     \n",
            "                                                                 \n",
            " leaky_re_lu_30 (LeakyReLU)  (None, 1, 64, 64)         0         \n",
            "                                                                 \n",
            " batch_normalization_26 (Bat  (None, 1, 64, 64)        256       \n",
            " chNormalization)                                                \n",
            "                                                                 \n",
            " flatten_3 (Flatten)         (None, 4096)              0         \n",
            "                                                                 \n",
            " dense_3 (Dense)             (None, 128)               524416    \n",
            "                                                                 \n",
            " re_lu_2 (ReLU)              (None, 128)               0         \n",
            "                                                                 \n",
            " dense_4 (Dense)             (None, 2)                 258       \n",
            "                                                                 \n",
            " softmax_1 (Softmax)         (None, 2)                 0         \n",
            "                                                                 \n",
            "=================================================================\n",
            "Total params: 853,698\n",
            "Trainable params: 853,186\n",
            "Non-trainable params: 512\n",
            "_________________________________________________________________\n"
          ]
        }
      ]
    },
    {
      "cell_type": "code",
      "source": [
        "discriminator.predict(img)"
      ],
      "metadata": {
        "id": "G_xlPZ52IJMI",
        "outputId": "369db7a7-cf32-447a-f932-5dfe20238c1c",
        "colab": {
          "base_uri": "https://localhost:8080/"
        }
      },
      "execution_count": 164,
      "outputs": [
        {
          "output_type": "stream",
          "name": "stdout",
          "text": [
            "1/1 [==============================] - 0s 189ms/step\n"
          ]
        },
        {
          "output_type": "execute_result",
          "data": {
            "text/plain": [
              "array([[0.50000936, 0.49999064],\n",
              "       [0.5000051 , 0.49999493],\n",
              "       [0.5000086 , 0.49999145],\n",
              "       [0.5000074 , 0.49999264]], dtype=float32)"
            ]
          },
          "metadata": {},
          "execution_count": 164
        }
      ]
    }
  ]
}